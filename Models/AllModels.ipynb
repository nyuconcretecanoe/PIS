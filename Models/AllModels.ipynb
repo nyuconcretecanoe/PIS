{
 "cells": [
  {
   "cell_type": "code",
   "execution_count": 14,
   "metadata": {},
   "outputs": [],
   "source": [
    "from matplotlib import dates as mdate\n",
    "from matplotlib import pyplot as plt\n",
    "import matplotlib.animation as animation\n",
    "\n",
    "\n",
    "import pandas as pd\n",
    "\n",
    "from time import sleep\n",
    "\n",
    "from IPython.display import clear_output\n",
    "\n",
    "import numpy as np\n",
    "\n",
    "from sklearn.pipeline import make_pipeline\n",
    "from sklearn.preprocessing import StandardScaler\n",
    "from sklearn.ensemble import RandomForestClassifier\n",
    "from sklearn.model_selection import cross_val_score, train_test_split\n",
    "\n",
    "import random\n",
    "\n",
    "import joblib\n",
    "\n",
    "import random\n",
    "from sklearn.model_selection import train_test_split\n",
    "\n",
    "import numpy as np\n",
    "\n",
    "from sklearn.pipeline import make_pipeline\n",
    "\n",
    "from sklearn.preprocessing import StandardScaler\n",
    "\n",
    "from sklearn.svm import SVC\n",
    "\n",
    "from sklearn.linear_model import LogisticRegression\n",
    "\n",
    "from sklearn.ensemble import RandomForestClassifier\n",
    "\n",
    "\n",
    "from sklearn.model_selection import cross_val_score\n",
    "\n",
    "import pickle"
   ]
  },
  {
   "cell_type": "code",
   "execution_count": 15,
   "metadata": {},
   "outputs": [],
   "source": [
    "from Preprocessing import *"
   ]
  },
  {
   "cell_type": "code",
   "execution_count": 16,
   "metadata": {},
   "outputs": [],
   "source": [
    "X = np.array(catchcompletearr)\n",
    "y = np.array(catchresultarr)\n",
    "\n",
    "X2 = np.array(pullcompletearr)\n",
    "y2 = np.array(pullresultarr)\n",
    "\n",
    "X3 = np.array(recoverycompletearr)\n",
    "y3 = np.array(recoveryresultarr)"
   ]
  },
  {
   "cell_type": "markdown",
   "metadata": {},
   "source": [
    "# Classification Models"
   ]
  },
  {
   "cell_type": "markdown",
   "metadata": {},
   "source": [
    "## RandomForestClassifier"
   ]
  },
  {
   "cell_type": "markdown",
   "metadata": {},
   "source": [
    "### Catch"
   ]
  },
  {
   "cell_type": "code",
   "execution_count": 17,
   "metadata": {},
   "outputs": [
    {
     "name": "stdout",
     "output_type": "stream",
     "text": [
      "Precision: 1.0 \n",
      "Recall: 1.0 \n",
      "Accuracy: 1.0 \n",
      "Fscore: 1.0\n"
     ]
    }
   ],
   "source": [
    "X_train, X_test, y_train, y_test = train_test_split(X, y, test_size=0.33, random_state=random.randint(0, 50))\n",
    "\n",
    "clf1 = make_pipeline(StandardScaler(), RandomForestClassifier(n_estimators=100))\n",
    "\n",
    "clf1.fit(X_train, y_train)\n",
    "\n",
    "predict_y = clf1.predict(X_test)\n",
    "predict_y\n",
    "getResults(predict_y, y_test)"
   ]
  },
  {
   "cell_type": "markdown",
   "metadata": {},
   "source": [
    "### Pull"
   ]
  },
  {
   "cell_type": "code",
   "execution_count": 18,
   "metadata": {},
   "outputs": [
    {
     "name": "stdout",
     "output_type": "stream",
     "text": [
      "zero division error\n"
     ]
    }
   ],
   "source": [
    "\n",
    "X_train, X_test, y_train, y_test = train_test_split(X2, y2, test_size=0.33, random_state=random.randint(0, 50))\n",
    "\n",
    "clf2 = make_pipeline(StandardScaler(), RandomForestClassifier(n_estimators=100))\n",
    "\n",
    "clf2.fit(X_train, y_train)\n",
    "\n",
    "predict_y = clf2.predict(X_test)\n",
    "\n",
    "getResults(predict_y, y_test)"
   ]
  },
  {
   "cell_type": "markdown",
   "metadata": {},
   "source": [
    "### Recovery"
   ]
  },
  {
   "cell_type": "code",
   "execution_count": 19,
   "metadata": {},
   "outputs": [
    {
     "name": "stdout",
     "output_type": "stream",
     "text": [
      "Precision: 1.0 \n",
      "Recall: 0.875 \n",
      "Accuracy: 0.9545454545454546 \n",
      "Fscore: 0.9333333333333333\n"
     ]
    }
   ],
   "source": [
    "\n",
    "X_train, X_test, y_train, y_test = train_test_split(X3, y3, test_size=0.33, random_state=random.randint(0, 50))\n",
    "\n",
    "clf3 = make_pipeline(StandardScaler(), RandomForestClassifier(n_estimators=100))\n",
    "\n",
    "clf3.fit(X_train, y_train)\n",
    "\n",
    "predict_y = clf3.predict(X_test)\n",
    "\n",
    "getResults(predict_y, y_test)"
   ]
  },
  {
   "cell_type": "markdown",
   "metadata": {},
   "source": [
    "## SVM (Classification)"
   ]
  },
  {
   "cell_type": "markdown",
   "metadata": {},
   "source": [
    "### Catch"
   ]
  },
  {
   "cell_type": "code",
   "execution_count": 20,
   "metadata": {},
   "outputs": [
    {
     "name": "stdout",
     "output_type": "stream",
     "text": [
      "zero division error\n"
     ]
    }
   ],
   "source": [
    "X_train, X_test, y_train, y_test = train_test_split(X, y, test_size=0.33, random_state=random.randint(0, 50))\n",
    "\n",
    "clf1 = make_pipeline(StandardScaler(), SVC(gamma='auto'))\n",
    "\n",
    "clf1.fit(X_train, y_train)\n",
    "\n",
    "predict_y = clf1.predict(X_test)\n",
    "predict_y\n",
    "getResults(predict_y, y_test)"
   ]
  },
  {
   "cell_type": "markdown",
   "metadata": {},
   "source": [
    "### Pull"
   ]
  },
  {
   "cell_type": "code",
   "execution_count": 21,
   "metadata": {},
   "outputs": [
    {
     "name": "stdout",
     "output_type": "stream",
     "text": [
      "zero division error\n"
     ]
    }
   ],
   "source": [
    "X_train, X_test, y_train, y_test = train_test_split(X2, y2, test_size=0.33, random_state=random.randint(0, 50))\n",
    "\n",
    "clf2 = make_pipeline(StandardScaler(), SVC(gamma='auto'))\n",
    "\n",
    "clf2.fit(X_train, y_train)\n",
    "\n",
    "predict_y = clf2.predict(X_test)\n",
    "\n",
    "getResults(predict_y, y_test)"
   ]
  },
  {
   "cell_type": "markdown",
   "metadata": {},
   "source": [
    "### Recovery"
   ]
  },
  {
   "cell_type": "code",
   "execution_count": 22,
   "metadata": {},
   "outputs": [
    {
     "name": "stdout",
     "output_type": "stream",
     "text": [
      "zero division error\n"
     ]
    }
   ],
   "source": [
    "X_train, X_test, y_train, y_test = train_test_split(X3, y3, test_size=0.33, random_state=random.randint(0, 50))\n",
    "\n",
    "clf3 = make_pipeline(StandardScaler(), SVC(gamma='auto'))\n",
    "\n",
    "clf3.fit(X_train, y_train)\n",
    "\n",
    "predict_y = clf3.predict(X_test)\n",
    "\n",
    "getResults(predict_y, y_test)"
   ]
  },
  {
   "cell_type": "markdown",
   "metadata": {},
   "source": [
    "## Logistic Regression "
   ]
  },
  {
   "cell_type": "markdown",
   "metadata": {},
   "source": [
    "### Catch "
   ]
  },
  {
   "cell_type": "code",
   "execution_count": 23,
   "metadata": {},
   "outputs": [
    {
     "name": "stdout",
     "output_type": "stream",
     "text": [
      "zero division error\n"
     ]
    }
   ],
   "source": [
    "X_train, X_test, y_train, y_test = train_test_split(X, y, test_size=0.33, random_state=random.randint(0, 50))\n",
    "\n",
    "clf1 = make_pipeline(StandardScaler(), LogisticRegression(penalty='l2')) #penalty prevents overfitting\n",
    "\n",
    "clf1.fit(X_train, y_train)\n",
    "\n",
    "predict_y = clf1.predict(X_test)\n",
    "predict_y\n",
    "getResults(predict_y, y_test)"
   ]
  },
  {
   "cell_type": "markdown",
   "metadata": {},
   "source": [
    "### Pull"
   ]
  },
  {
   "cell_type": "code",
   "execution_count": 24,
   "metadata": {},
   "outputs": [
    {
     "name": "stdout",
     "output_type": "stream",
     "text": [
      "Precision: 1.0 \n",
      "Recall: 0.9 \n",
      "Accuracy: 0.9545454545454546 \n",
      "Fscore: 0.9473684210526316\n"
     ]
    }
   ],
   "source": [
    "X_train, X_test, y_train, y_test = train_test_split(X2, y2, test_size=0.33, random_state=random.randint(0, 50))\n",
    "\n",
    "clf2 = make_pipeline(StandardScaler(), LogisticRegression(penalty='l2')) #penalty prevents overfitting\n",
    "\n",
    "clf2.fit(X_train, y_train)\n",
    "\n",
    "predict_y = clf2.predict(X_test)\n",
    "\n",
    "getResults(predict_y, y_test)"
   ]
  },
  {
   "cell_type": "markdown",
   "metadata": {},
   "source": [
    "### Recovery"
   ]
  },
  {
   "cell_type": "code",
   "execution_count": 25,
   "metadata": {},
   "outputs": [
    {
     "name": "stdout",
     "output_type": "stream",
     "text": [
      "zero division error\n"
     ]
    }
   ],
   "source": [
    "X_train, X_test, y_train, y_test = train_test_split(X3, y3, test_size=0.33, random_state=random.randint(0, 50))\n",
    "\n",
    "clf3 = make_pipeline(StandardScaler(), LogisticRegression(penalty='l2')) #penalty prevents overfitting\n",
    "\n",
    "clf3.fit(X_train, y_train)\n",
    "\n",
    "predict_y = clf3.predict(X_test)\n",
    "\n",
    "getResults(predict_y, y_test)"
   ]
  },
  {
   "cell_type": "markdown",
   "metadata": {},
   "source": [
    "## XGB Classification"
   ]
  },
  {
   "cell_type": "code",
   "execution_count": 44,
   "metadata": {},
   "outputs": [],
   "source": [
    "from xgboost import XGBClassifier"
   ]
  },
  {
   "cell_type": "markdown",
   "metadata": {},
   "source": [
    "### Catch"
   ]
  },
  {
   "cell_type": "code",
   "execution_count": 78,
   "metadata": {},
   "outputs": [
    {
     "name": "stdout",
     "output_type": "stream",
     "text": [
      "Precision: 1.0 \n",
      "Recall: 1.0 \n",
      "Accuracy: 1.0 \n",
      "Fscore: 1.0\n"
     ]
    }
   ],
   "source": [
    "X_train, X_test, y_train, y_test = train_test_split(X, y, test_size=0.33, random_state=random.randint(0, 50))\n",
    "\n",
    "clf1 = make_pipeline(StandardScaler(), XGBClassifier(n_estimators=100)) \n",
    "\n",
    "clf1.fit(X_train, y_train)\n",
    "\n",
    "predict_y = clf1.predict(X_test)\n",
    "predict_y\n",
    "getResults(predict_y, y_test)"
   ]
  },
  {
   "cell_type": "markdown",
   "metadata": {},
   "source": [
    "### Pull"
   ]
  },
  {
   "cell_type": "code",
   "execution_count": 79,
   "metadata": {},
   "outputs": [
    {
     "name": "stdout",
     "output_type": "stream",
     "text": [
      "Precision: 1.0 \n",
      "Recall: 1.0 \n",
      "Accuracy: 1.0 \n",
      "Fscore: 1.0\n"
     ]
    }
   ],
   "source": [
    "X_train, X_test, y_train, y_test = train_test_split(X2, y2, test_size=0.33, random_state=random.randint(0, 50))\n",
    "\n",
    "clf2 = make_pipeline(StandardScaler(), XGBClassifier(n_estimators=100)) \n",
    "\n",
    "clf2.fit(X_train, y_train)\n",
    "\n",
    "predict_y = clf2.predict(X_test)\n",
    "\n",
    "getResults(predict_y, y_test)"
   ]
  },
  {
   "cell_type": "markdown",
   "metadata": {},
   "source": [
    "### Recovery"
   ]
  },
  {
   "cell_type": "code",
   "execution_count": 87,
   "metadata": {},
   "outputs": [
    {
     "name": "stdout",
     "output_type": "stream",
     "text": [
      "Precision: 1.0 \n",
      "Recall: 0.875 \n",
      "Accuracy: 0.9545454545454546 \n",
      "Fscore: 0.9333333333333333\n"
     ]
    }
   ],
   "source": [
    "X_train, X_test, y_train, y_test = train_test_split(X3, y3, test_size=0.33, random_state=random.randint(0, 50))\n",
    "\n",
    "clf3 = make_pipeline(StandardScaler(), XGBClassifier(n_estimators=100)) \n",
    "\n",
    "clf3.fit(X_train, y_train)\n",
    "\n",
    "predict_y = clf3.predict(X_test)\n",
    "\n",
    "getResults(predict_y, y_test)"
   ]
  },
  {
   "cell_type": "markdown",
   "metadata": {},
   "source": [
    "# Anomaly Detection Models"
   ]
  },
  {
   "cell_type": "code",
   "execution_count": null,
   "metadata": {},
   "outputs": [],
   "source": [
    "from sklearn.ensemble import IsolationForest\n",
    "from sklearn.svm import OneClassSVM"
   ]
  },
  {
   "cell_type": "markdown",
   "metadata": {},
   "source": [
    "## One Class SVM"
   ]
  },
  {
   "cell_type": "code",
   "execution_count": 124,
   "metadata": {},
   "outputs": [
    {
     "data": {
      "text/plain": [
       "array([[ 1.73774944e+18,  3.60507967e-06,  9.29481312e+07, ...,\n",
       "         7.34313965e-01, -6.10542297e-01, -2.20668793e-01],\n",
       "       [ 1.73774944e+18,  4.01499878e-06,  1.13298473e+08, ...,\n",
       "         1.04241943e+00, -6.90299988e-01, -2.81784058e-01],\n",
       "       [ 1.73774944e+18,  6.51203180e-06,  9.87631425e+07, ...,\n",
       "         9.00222778e-01, -5.94234467e-01, -1.36581421e-01],\n",
       "       ...,\n",
       "       [ 1.73774977e+18, -3.24646505e-06,  2.35386941e+08, ...,\n",
       "         9.68460083e-01, -6.55563354e-01, -1.27639771e-01],\n",
       "       [ 1.73774977e+18,  1.01621607e-06,  2.09228192e+08, ...,\n",
       "         7.90176392e-01, -4.08485413e-01, -1.56967163e-01],\n",
       "       [ 1.73774978e+18,  8.04025401e-06,  1.48189040e+08, ...,\n",
       "         8.17703247e-01, -5.36857605e-01, -1.44218445e-01]],\n",
       "      shape=(66, 400))"
      ]
     },
     "execution_count": 124,
     "metadata": {},
     "output_type": "execute_result"
    }
   ],
   "source": [
    "X"
   ]
  },
  {
   "cell_type": "code",
   "execution_count": 125,
   "metadata": {},
   "outputs": [
    {
     "data": {
      "text/plain": [
       "array([0, 0, 0, 0, 0, 0, 0, 0, 0, 0, 0, 0, 0, 0, 0, 0, 0, 0, 0, 0, 0, 0,\n",
       "       0, 0, 0, 0, 0, 0, 0, 0, 0, 0, 0, 0, 0, 0, 0, 0, 0, 0, 1, 1, 1, 1,\n",
       "       1, 1, 1, 1, 1, 1, 1, 1, 1, 1, 1, 1, 1, 1, 1, 1, 1, 1, 1, 1, 1, 1])"
      ]
     },
     "execution_count": 125,
     "metadata": {},
     "output_type": "execute_result"
    }
   ],
   "source": [
    "y"
   ]
  },
  {
   "cell_type": "markdown",
   "metadata": {},
   "source": [
    "### Catch"
   ]
  },
  {
   "cell_type": "code",
   "execution_count": 128,
   "metadata": {},
   "outputs": [
    {
     "name": "stdout",
     "output_type": "stream",
     "text": [
      "[-1 -1 -1 -1 -1 -1 -1 -1 -1 -1 -1 -1 -1 -1 -1 -1 -1 -1 -1 -1 -1 -1 -1 -1\n",
      " -1 -1 -1 -1 -1 -1 -1 -1 -1 -1 -1 -1 -1 -1 -1 -1 -1 -1 -1 -1 -1 -1 -1 -1\n",
      " -1 -1 -1 -1 -1 -1 -1 -1 -1 -1 -1 -1 -1 -1 -1 -1 -1 -1]\n"
     ]
    }
   ],
   "source": [
    "clf1 = OneClassSVM(\n",
    "    gamma='auto',\n",
    "    kernel='rbf',\n",
    "    nu=0.5).fit(X)\n",
    "\n",
    "predictions = clf1.predict(X)\n",
    "print(predictions)\n"
   ]
  },
  {
   "cell_type": "markdown",
   "metadata": {},
   "source": [
    "### Pull"
   ]
  },
  {
   "cell_type": "code",
   "execution_count": null,
   "metadata": {},
   "outputs": [],
   "source": [
    "clf2 = OneClassSVM(\n",
    "    gamma='auto',\n",
    "    kernel='rbf',\n",
    "    nu=0.5).fit(X2)\n",
    "\n",
    "predictions = clf1.predict(X2)\n",
    "print(predictions)\n"
   ]
  },
  {
   "cell_type": "markdown",
   "metadata": {},
   "source": [
    "### Recovery"
   ]
  },
  {
   "cell_type": "code",
   "execution_count": null,
   "metadata": {},
   "outputs": [],
   "source": [
    "clf3 = OneClassSVM(\n",
    "    gamma='auto',\n",
    "    kernel='rbf',\n",
    "    nu=0.5).fit(X3)\n",
    "\n",
    "predictions = clf1.predict(X3)\n",
    "print(predictions)\n"
   ]
  }
 ],
 "metadata": {
  "kernelspec": {
   "display_name": "CanoeModel",
   "language": "python",
   "name": "python3"
  },
  "language_info": {
   "codemirror_mode": {
    "name": "ipython",
    "version": 3
   },
   "file_extension": ".py",
   "mimetype": "text/x-python",
   "name": "python",
   "nbconvert_exporter": "python",
   "pygments_lexer": "ipython3",
   "version": "3.12.8"
  }
 },
 "nbformat": 4,
 "nbformat_minor": 2
}
