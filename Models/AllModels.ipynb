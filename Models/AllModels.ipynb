{
 "cells": [
  {
   "cell_type": "code",
   "execution_count": 103,
   "metadata": {},
   "outputs": [],
   "source": [
    "from matplotlib import dates as mdate\n",
    "from matplotlib import pyplot as plt\n",
    "import matplotlib.animation as animation\n",
    "\n",
    "\n",
    "import pandas as pd\n",
    "\n",
    "from time import sleep\n",
    "\n",
    "from IPython.display import clear_output\n",
    "\n",
    "import numpy as np\n",
    "\n",
    "from sklearn.pipeline import make_pipeline\n",
    "from sklearn.preprocessing import StandardScaler\n",
    "from sklearn.ensemble import RandomForestClassifier\n",
    "from sklearn.model_selection import cross_val_score, train_test_split\n",
    "\n",
    "import random\n",
    "\n",
    "import joblib\n",
    "\n",
    "import random\n",
    "from sklearn.model_selection import train_test_split\n",
    "\n",
    "import numpy as np\n",
    "\n",
    "from sklearn.pipeline import make_pipeline\n",
    "\n",
    "from sklearn.preprocessing import StandardScaler\n",
    "\n",
    "from sklearn.svm import SVC\n",
    "\n",
    "from sklearn.linear_model import LogisticRegression\n",
    "\n",
    "from sklearn.ensemble import RandomForestClassifier\n",
    "\n",
    "\n",
    "from sklearn.model_selection import cross_val_score\n",
    "\n",
    "import pickle"
   ]
  },
  {
   "cell_type": "code",
   "execution_count": 104,
   "metadata": {},
   "outputs": [],
   "source": [
    "from Preprocessing import *"
   ]
  },
  {
   "cell_type": "code",
   "execution_count": 105,
   "metadata": {},
   "outputs": [],
   "source": [
    "X = np.array(catchcompletearr)\n",
    "y = np.array(catchresultarr)\n",
    "\n",
    "X2 = np.array(pullcompletearr)\n",
    "y2 = np.array(pullresultarr)\n",
    "\n",
    "X3 = np.array(recoverycompletearr)\n",
    "y3 = np.array(recoveryresultarr)"
   ]
  },
  {
   "cell_type": "markdown",
   "metadata": {},
   "source": [
    "# Classification Models"
   ]
  },
  {
   "cell_type": "markdown",
   "metadata": {},
   "source": [
    "## RandomForestClassifier"
   ]
  },
  {
   "cell_type": "markdown",
   "metadata": {},
   "source": [
    "### Catch"
   ]
  },
  {
   "cell_type": "code",
   "execution_count": 137,
   "metadata": {},
   "outputs": [
    {
     "name": "stdout",
     "output_type": "stream",
     "text": [
      "Precision: 0.5 \n",
      "Recall: 1.0 \n",
      "Accuracy: 0.7727272727272727 \n",
      "Fscore: 0.6666666666666666\n"
     ]
    }
   ],
   "source": [
    "X_train, X_test, y_train, y_test = train_test_split(X, y, test_size=0.33, random_state=random.randint(0, 50))\n",
    "\n",
    "clf1 = make_pipeline(StandardScaler(), RandomForestClassifier(n_estimators=100))\n",
    "\n",
    "clf1.fit(X_train, y_train)\n",
    "\n",
    "predict_y = clf1.predict(X_test)\n",
    "predict_y\n",
    "getResults(predict_y, y_test)"
   ]
  },
  {
   "cell_type": "markdown",
   "metadata": {},
   "source": [
    "### Pull"
   ]
  },
  {
   "cell_type": "code",
   "execution_count": 134,
   "metadata": {},
   "outputs": [
    {
     "name": "stdout",
     "output_type": "stream",
     "text": [
      "Precision: 1.0 \n",
      "Recall: 0.875 \n",
      "Accuracy: 0.9545454545454546 \n",
      "Fscore: 0.9333333333333333\n"
     ]
    }
   ],
   "source": [
    "\n",
    "X_train, X_test, y_train, y_test = train_test_split(X2, y2, test_size=0.33, random_state=random.randint(0, 50))\n",
    "\n",
    "clf2 = make_pipeline(StandardScaler(), RandomForestClassifier(n_estimators=100))\n",
    "\n",
    "clf2.fit(X_train, y_train)\n",
    "\n",
    "predict_y = clf2.predict(X_test)\n",
    "\n",
    "getResults(predict_y, y_test)"
   ]
  },
  {
   "cell_type": "markdown",
   "metadata": {},
   "source": [
    "### Recovery"
   ]
  },
  {
   "cell_type": "code",
   "execution_count": 136,
   "metadata": {},
   "outputs": [
    {
     "name": "stdout",
     "output_type": "stream",
     "text": [
      "Precision: 1.0 \n",
      "Recall: 0.75 \n",
      "Accuracy: 0.8636363636363636 \n",
      "Fscore: 0.8571428571428571\n"
     ]
    }
   ],
   "source": [
    "\n",
    "X_train, X_test, y_train, y_test = train_test_split(X3, y3, test_size=0.33, random_state=random.randint(0, 50))\n",
    "\n",
    "clf3 = make_pipeline(StandardScaler(), RandomForestClassifier(n_estimators=100))\n",
    "\n",
    "clf3.fit(X_train, y_train)\n",
    "\n",
    "predict_y = clf3.predict(X_test)\n",
    "\n",
    "getResults(predict_y, y_test)"
   ]
  },
  {
   "cell_type": "markdown",
   "metadata": {},
   "source": [
    "## SVM (Classification)"
   ]
  },
  {
   "cell_type": "markdown",
   "metadata": {},
   "source": [
    "### Catch"
   ]
  },
  {
   "cell_type": "code",
   "execution_count": 144,
   "metadata": {},
   "outputs": [
    {
     "name": "stdout",
     "output_type": "stream",
     "text": [
      "Precision: 0.4166666666666667 \n",
      "Recall: 1.0 \n",
      "Accuracy: 0.6818181818181818 \n",
      "Fscore: 0.5882352941176471\n"
     ]
    }
   ],
   "source": [
    "X_train, X_test, y_train, y_test = train_test_split(X, y, test_size=0.33, random_state=random.randint(0, 50))\n",
    "\n",
    "clf1 = make_pipeline(StandardScaler(), SVC(gamma='auto'))\n",
    "\n",
    "clf1.fit(X_train, y_train)\n",
    "\n",
    "predict_y = clf1.predict(X_test)\n",
    "predict_y\n",
    "getResults(predict_y, y_test)"
   ]
  },
  {
   "cell_type": "markdown",
   "metadata": {},
   "source": [
    "### Pull"
   ]
  },
  {
   "cell_type": "code",
   "execution_count": 147,
   "metadata": {},
   "outputs": [
    {
     "name": "stdout",
     "output_type": "stream",
     "text": [
      "Precision: 1.0 \n",
      "Recall: 0.8461538461538461 \n",
      "Accuracy: 0.9090909090909091 \n",
      "Fscore: 0.9166666666666666\n"
     ]
    }
   ],
   "source": [
    "X_train, X_test, y_train, y_test = train_test_split(X2, y2, test_size=0.33, random_state=random.randint(0, 50))\n",
    "\n",
    "clf2 = make_pipeline(StandardScaler(), SVC(gamma='auto'))\n",
    "\n",
    "clf2.fit(X_train, y_train)\n",
    "\n",
    "predict_y = clf2.predict(X_test)\n",
    "\n",
    "getResults(predict_y, y_test)"
   ]
  },
  {
   "cell_type": "markdown",
   "metadata": {},
   "source": [
    "### Recovery"
   ]
  },
  {
   "cell_type": "code",
   "execution_count": 150,
   "metadata": {},
   "outputs": [
    {
     "name": "stdout",
     "output_type": "stream",
     "text": [
      "Precision: 1.0 \n",
      "Recall: 1.0 \n",
      "Accuracy: 1.0 \n",
      "Fscore: 1.0\n"
     ]
    }
   ],
   "source": [
    "X_train, X_test, y_train, y_test = train_test_split(X3, y3, test_size=0.33, random_state=random.randint(0, 50))\n",
    "\n",
    "clf3 = make_pipeline(StandardScaler(), SVC(gamma='auto'))\n",
    "\n",
    "clf3.fit(X_train, y_train)\n",
    "\n",
    "predict_y = clf3.predict(X_test)\n",
    "\n",
    "getResults(predict_y, y_test)"
   ]
  },
  {
   "cell_type": "markdown",
   "metadata": {},
   "source": [
    "## Logistic Regression "
   ]
  },
  {
   "cell_type": "markdown",
   "metadata": {},
   "source": [
    "### Catch "
   ]
  },
  {
   "cell_type": "code",
   "execution_count": 154,
   "metadata": {},
   "outputs": [
    {
     "name": "stdout",
     "output_type": "stream",
     "text": [
      "Precision: 1.0 \n",
      "Recall: 0.9 \n",
      "Accuracy: 0.9545454545454546 \n",
      "Fscore: 0.9473684210526316\n"
     ]
    }
   ],
   "source": [
    "X_train, X_test, y_train, y_test = train_test_split(X, y, test_size=0.33, random_state=random.randint(0, 50))\n",
    "\n",
    "clf1 = make_pipeline(StandardScaler(), LogisticRegression(penalty='l2')) #penalty prevents overfitting\n",
    "\n",
    "clf1.fit(X_train, y_train)\n",
    "\n",
    "predict_y = clf1.predict(X_test)\n",
    "predict_y\n",
    "getResults(predict_y, y_test)"
   ]
  },
  {
   "cell_type": "markdown",
   "metadata": {},
   "source": [
    "### Pull"
   ]
  },
  {
   "cell_type": "code",
   "execution_count": 165,
   "metadata": {},
   "outputs": [
    {
     "name": "stdout",
     "output_type": "stream",
     "text": [
      "Precision: 0.7142857142857143 \n",
      "Recall: 1.0 \n",
      "Accuracy: 0.9090909090909091 \n",
      "Fscore: 0.8333333333333333\n"
     ]
    }
   ],
   "source": [
    "X_train, X_test, y_train, y_test = train_test_split(X2, y2, test_size=0.33, random_state=random.randint(0, 50))\n",
    "\n",
    "clf2 = make_pipeline(StandardScaler(), LogisticRegression(penalty='l2')) #penalty prevents overfitting\n",
    "\n",
    "clf2.fit(X_train, y_train)\n",
    "\n",
    "predict_y = clf2.predict(X_test)\n",
    "\n",
    "getResults(predict_y, y_test)"
   ]
  },
  {
   "cell_type": "markdown",
   "metadata": {},
   "source": [
    "### Recovery"
   ]
  },
  {
   "cell_type": "code",
   "execution_count": 172,
   "metadata": {},
   "outputs": [
    {
     "name": "stdout",
     "output_type": "stream",
     "text": [
      "Precision: 0.8888888888888888 \n",
      "Recall: 0.8888888888888888 \n",
      "Accuracy: 0.9090909090909091 \n",
      "Fscore: 0.8888888888888888\n"
     ]
    }
   ],
   "source": [
    "X_train, X_test, y_train, y_test = train_test_split(X3, y3, test_size=0.33, random_state=random.randint(0, 50))\n",
    "\n",
    "clf3 = make_pipeline(StandardScaler(), LogisticRegression(penalty='l2')) #penalty prevents overfitting\n",
    "\n",
    "clf3.fit(X_train, y_train)\n",
    "\n",
    "predict_y = clf3.predict(X_test)\n",
    "\n",
    "getResults(predict_y, y_test)"
   ]
  },
  {
   "cell_type": "markdown",
   "metadata": {},
   "source": [
    "## XGB Classification"
   ]
  },
  {
   "cell_type": "code",
   "execution_count": 115,
   "metadata": {},
   "outputs": [],
   "source": [
    "from xgboost import XGBClassifier"
   ]
  },
  {
   "cell_type": "markdown",
   "metadata": {},
   "source": [
    "### Catch"
   ]
  },
  {
   "cell_type": "code",
   "execution_count": 189,
   "metadata": {},
   "outputs": [
    {
     "name": "stdout",
     "output_type": "stream",
     "text": [
      "Precision: 1.0 \n",
      "Recall: 1.0 \n",
      "Accuracy: 1.0 \n",
      "Fscore: 1.0\n"
     ]
    }
   ],
   "source": [
    "X_train, X_test, y_train, y_test = train_test_split(X, y, test_size=0.33, random_state=random.randint(0, 50))\n",
    "\n",
    "clf1 = make_pipeline(StandardScaler(), XGBClassifier(n_estimators=100)) \n",
    "\n",
    "clf1.fit(X_train, y_train)\n",
    "\n",
    "predict_y = clf1.predict(X_test)\n",
    "predict_y\n",
    "getResults(predict_y, y_test)"
   ]
  },
  {
   "cell_type": "markdown",
   "metadata": {},
   "source": [
    "### Pull"
   ]
  },
  {
   "cell_type": "code",
   "execution_count": 198,
   "metadata": {},
   "outputs": [
    {
     "name": "stdout",
     "output_type": "stream",
     "text": [
      "Precision: 1.0 \n",
      "Recall: 1.0 \n",
      "Accuracy: 1.0 \n",
      "Fscore: 1.0\n"
     ]
    }
   ],
   "source": [
    "X_train, X_test, y_train, y_test = train_test_split(X2, y2, test_size=0.33, random_state=random.randint(0, 50))\n",
    "\n",
    "clf2 = make_pipeline(StandardScaler(), XGBClassifier(n_estimators=100)) \n",
    "\n",
    "clf2.fit(X_train, y_train)\n",
    "\n",
    "predict_y = clf2.predict(X_test)\n",
    "\n",
    "getResults(predict_y, y_test)"
   ]
  },
  {
   "cell_type": "markdown",
   "metadata": {},
   "source": [
    "### Recovery"
   ]
  },
  {
   "cell_type": "code",
   "execution_count": 118,
   "metadata": {},
   "outputs": [
    {
     "name": "stdout",
     "output_type": "stream",
     "text": [
      "Precision: 1.0 \n",
      "Recall: 0.75 \n",
      "Accuracy: 0.8636363636363636 \n",
      "Fscore: 0.8571428571428571\n"
     ]
    }
   ],
   "source": [
    "X_train, X_test, y_train, y_test = train_test_split(X3, y3, test_size=0.33, random_state=random.randint(0, 50))\n",
    "\n",
    "clf3 = make_pipeline(StandardScaler(), XGBClassifier(n_estimators=100)) \n",
    "\n",
    "clf3.fit(X_train, y_train)\n",
    "\n",
    "predict_y = clf3.predict(X_test)\n",
    "\n",
    "getResults(predict_y, y_test)"
   ]
  },
  {
   "cell_type": "markdown",
   "metadata": {},
   "source": [
    "# Anomaly Detection Models"
   ]
  },
  {
   "cell_type": "code",
   "execution_count": 119,
   "metadata": {},
   "outputs": [],
   "source": [
    "from sklearn.ensemble import IsolationForest\n",
    "from sklearn.svm import OneClassSVM"
   ]
  },
  {
   "cell_type": "code",
   "execution_count": 120,
   "metadata": {},
   "outputs": [],
   "source": [
    "scaler = StandardScaler()"
   ]
  },
  {
   "cell_type": "markdown",
   "metadata": {},
   "source": [
    "## One Class SVM"
   ]
  },
  {
   "cell_type": "code",
   "execution_count": 121,
   "metadata": {},
   "outputs": [],
   "source": [
    "# X "
   ]
  },
  {
   "cell_type": "code",
   "execution_count": 122,
   "metadata": {},
   "outputs": [],
   "source": [
    "# y"
   ]
  },
  {
   "cell_type": "markdown",
   "metadata": {},
   "source": [
    "### Catch"
   ]
  },
  {
   "cell_type": "code",
   "execution_count": 123,
   "metadata": {},
   "outputs": [
    {
     "data": {
      "text/plain": [
       "array([-1, -1, -1, -1, -1, -1, -1, -1, -1, -1, -1, -1, -1, -1, -1, -1, -1,\n",
       "       -1, -1, -1, -1, -1, -1, -1, -1, -1, -1, -1, -1, -1, -1, -1, -1, -1,\n",
       "       -1, -1, -1, -1, -1, -1, -1, -1, -1, -1, -1, -1, -1, -1, -1, -1, -1,\n",
       "       -1, -1, -1, -1, -1, -1, -1, -1, -1, -1, -1, -1, -1, -1, -1])"
      ]
     },
     "execution_count": 123,
     "metadata": {},
     "output_type": "execute_result"
    }
   ],
   "source": [
    "X_train = X[y == 0]\n",
    "\n",
    "clf1 = OneClassSVM(\n",
    "    gamma='auto', \n",
    "    kernel='rbf', #rbf is best when many dimensions\n",
    "    nu=0.5).fit(X_train)\n",
    "\n",
    "y_pred_train = clf1.predict(X)\n",
    "\n",
    "y_pred_train"
   ]
  },
  {
   "cell_type": "markdown",
   "metadata": {},
   "source": [
    "### Pull"
   ]
  },
  {
   "cell_type": "code",
   "execution_count": 124,
   "metadata": {},
   "outputs": [
    {
     "data": {
      "text/plain": [
       "array([-1, -1,  1, -1,  1,  1,  1,  1, -1, -1, -1, -1, -1,  1,  1,  1,  1,\n",
       "       -1, -1,  1,  1,  1,  1,  1,  1,  1,  1, -1, -1,  1, -1, -1, -1, -1,\n",
       "       -1, -1, -1, -1, -1, -1, -1, -1, -1, -1, -1, -1, -1, -1, -1, -1, -1,\n",
       "       -1, -1, -1, -1, -1, -1, -1, -1, -1, -1, -1, -1, -1, -1, -1])"
      ]
     },
     "execution_count": 124,
     "metadata": {},
     "output_type": "execute_result"
    }
   ],
   "source": [
    "#X2 needs to be scaled\n",
    "X_train2 = X2[y2 == 0]\n",
    "\n",
    "X_train2_scaled = scaler.fit_transform(X_train2)\n",
    "X2_scaled = scaler.transform(X2)\n",
    "\n",
    "clf2 = OneClassSVM(\n",
    "    gamma='auto', \n",
    "    kernel='rbf', #rbf is best when many dimensions\n",
    "    nu=0.5).fit(X_train2_scaled)\n",
    "\n",
    "y_pred_train2 = clf2.predict(X2_scaled)\n",
    "\n",
    "y_pred_train2"
   ]
  },
  {
   "cell_type": "markdown",
   "metadata": {},
   "source": [
    "### Recovery"
   ]
  },
  {
   "cell_type": "code",
   "execution_count": 125,
   "metadata": {},
   "outputs": [
    {
     "data": {
      "text/plain": [
       "array([-1, -1, -1, -1, -1, -1, -1, -1, -1, -1, -1, -1, -1, -1, -1, -1, -1,\n",
       "       -1, -1, -1, -1, -1, -1, -1, -1, -1, -1, -1, -1, -1, -1, -1, -1, -1,\n",
       "       -1, -1, -1, -1, -1, -1, -1, -1, -1, -1, -1, -1, -1, -1, -1, -1, -1,\n",
       "       -1, -1, -1, -1, -1, -1, -1, -1, -1, -1, -1, -1, -1, -1, -1])"
      ]
     },
     "execution_count": 125,
     "metadata": {},
     "output_type": "execute_result"
    }
   ],
   "source": [
    "X_train3 = X3[y3 == 0]\n",
    "\n",
    "clf3 = OneClassSVM(\n",
    "    gamma='auto', \n",
    "    kernel='rbf', #rbf is best when many dimensions\n",
    "    nu=0.5).fit(X_train3)\n",
    "\n",
    "y_pred_train3 = clf3.predict(X3)\n",
    "\n",
    "y_pred_train3"
   ]
  },
  {
   "cell_type": "markdown",
   "metadata": {},
   "source": [
    "## Isolation Forest"
   ]
  },
  {
   "cell_type": "markdown",
   "metadata": {},
   "source": [
    "### Catch"
   ]
  },
  {
   "cell_type": "code",
   "execution_count": 126,
   "metadata": {},
   "outputs": [
    {
     "data": {
      "text/plain": [
       "array([-1, -1,  1, -1,  1,  1,  1,  1,  1,  1, -1,  1,  1,  1,  1,  1,  1,\n",
       "       -1,  1,  1,  1,  1,  1,  1,  1,  1,  1, -1, -1,  1, -1,  1, -1, -1,\n",
       "       -1, -1, -1, -1, -1, -1, -1, -1, -1, -1, -1, -1, -1, -1, -1, -1, -1,\n",
       "       -1, -1, -1, -1, -1, -1, -1, -1, -1, -1, -1, -1, -1, -1, -1])"
      ]
     },
     "execution_count": 126,
     "metadata": {},
     "output_type": "execute_result"
    }
   ],
   "source": [
    "X_train = X[y == 0]\n",
    "\n",
    "clf1 = IsolationForest(\n",
    "    n_estimators=100,\n",
    "    max_samples='auto',\n",
    "    contamination=.4, #percent of outliers\n",
    "    random_state=random.randint(0,50)).fit(X_train)\n",
    "\n",
    "y_pred_train = clf1.predict(X)\n",
    "\n",
    "y_pred_train"
   ]
  },
  {
   "cell_type": "markdown",
   "metadata": {},
   "source": [
    "### Pull"
   ]
  },
  {
   "cell_type": "code",
   "execution_count": 127,
   "metadata": {},
   "outputs": [
    {
     "data": {
      "text/plain": [
       "array([-1, -1,  1, -1,  1,  1,  1,  1, -1, -1, -1,  1,  1,  1,  1,  1,  1,\n",
       "        1,  1,  1,  1,  1,  1,  1,  1,  1,  1, -1,  1,  1, -1,  1, -1, -1,\n",
       "       -1, -1, -1, -1, -1, -1, -1, -1, -1, -1, -1, -1, -1, -1, -1, -1, -1,\n",
       "       -1, -1, -1, -1, -1, -1, -1, -1, -1, -1, -1, -1, -1, -1, -1])"
      ]
     },
     "execution_count": 127,
     "metadata": {},
     "output_type": "execute_result"
    }
   ],
   "source": [
    "#X2 needs to be scaled\n",
    "X_train2 = X2[y2 == 0]\n",
    "\n",
    "X_train2_scaled = scaler.fit_transform(X_train2)\n",
    "X2_scaled = scaler.transform(X2)\n",
    "\n",
    "clf2 = IsolationForest(\n",
    "    n_estimators=100,\n",
    "    max_samples='auto',\n",
    "    contamination=.4, #percent of outliers\n",
    "    random_state=random.randint(0,50)).fit(X_train2_scaled)\n",
    "\n",
    "y_pred_train2 = clf2.predict(X2_scaled)\n",
    "\n",
    "y_pred_train2"
   ]
  },
  {
   "cell_type": "markdown",
   "metadata": {},
   "source": [
    "### Recovery"
   ]
  },
  {
   "cell_type": "code",
   "execution_count": 128,
   "metadata": {},
   "outputs": [
    {
     "data": {
      "text/plain": [
       "array([-1, -1, -1, -1,  1, -1,  1,  1,  1, -1,  1,  1,  1,  1,  1,  1,  1,\n",
       "        1,  1,  1, -1,  1,  1,  1,  1,  1,  1,  1,  1,  1, -1,  1, -1, -1,\n",
       "       -1, -1, -1, -1, -1, -1, -1, -1, -1, -1, -1, -1, -1, -1, -1, -1, -1,\n",
       "       -1, -1, -1, -1, -1, -1, -1, -1, -1, -1, -1, -1, -1, -1, -1])"
      ]
     },
     "execution_count": 128,
     "metadata": {},
     "output_type": "execute_result"
    }
   ],
   "source": [
    "X_train3 = X3[y3 == 0]\n",
    "\n",
    "clf3 = IsolationForest(\n",
    "    n_estimators=100,\n",
    "    max_samples='auto',\n",
    "    contamination=.4, #percent of outliers\n",
    "    random_state=random.randint(0,50)).fit(X_train3)\n",
    "\n",
    "y_pred_train = clf3.predict(X3)\n",
    "\n",
    "y_pred_train"
   ]
  }
 ],
 "metadata": {
  "kernelspec": {
   "display_name": "CanoeModel",
   "language": "python",
   "name": "python3"
  },
  "language_info": {
   "codemirror_mode": {
    "name": "ipython",
    "version": 3
   },
   "file_extension": ".py",
   "mimetype": "text/x-python",
   "name": "python",
   "nbconvert_exporter": "python",
   "pygments_lexer": "ipython3",
   "version": "3.12.8"
  }
 },
 "nbformat": 4,
 "nbformat_minor": 2
}
