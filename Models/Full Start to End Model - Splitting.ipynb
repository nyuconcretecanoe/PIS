{
 "cells": [
  {
   "cell_type": "code",
   "execution_count": 2,
   "id": "4fc1daa9",
   "metadata": {},
   "outputs": [],
   "source": [
    "from matplotlib import dates as mdate\n",
    "from matplotlib import pyplot as plt\n",
    "import matplotlib.animation as animation\n",
    "import pandas as pd\n",
    "from time import sleep\n",
    "from IPython.display import clear_output\n",
    "import numpy as np\n",
    "from scipy.stats import skew"
   ]
  },
  {
   "cell_type": "code",
   "execution_count": 3,
   "id": "2ead6467",
   "metadata": {},
   "outputs": [],
   "source": [
    "# df = pd.read_csv(\"../Paddling_Data/Jan_24/Anthony Optimal (1)/LeftWatch.csv\")"
   ]
  },
  {
   "cell_type": "code",
   "execution_count": 4,
   "id": "8346ccff",
   "metadata": {},
   "outputs": [],
   "source": [
    "optimalFileBase = [\n",
    "    {\"PhoneAccel\": \"../Paddling_Data/Jan_24/Anthony Optimal (1)/AccelerometerUncalibrated.csv\",\n",
    "     \"PhoneGyro\": \"../Paddling_Data/Jan_24/Anthony Optimal (1)/GyroscopeUncalibrated.csv\",\n",
    "     \"PhoneMag\": \"../Paddling_Data/Jan_24/Anthony Optimal (1)/MagnetometerUncalibrated.csv\",\n",
    "     \"LeftWatch\": \"../Paddling_Data/Jan_24//Anthony Optimal (1)/LeftWatch.csv\",\n",
    "     \"RightWatch\": \"../Paddling_Data/Jan_24//Anthony Optimal (1)/RightWatch.csv\"\n",
    "    },\n",
    "    {\"PhoneAccel\": \"../Paddling_Data/Jan_24//Alex Optimal (1)/AccelerometerUncalibrated.csv\",\n",
    "     \"PhoneGyro\": \"../Paddling_Data/Jan_24//Alex Optimal (1)/GyroscopeUncalibrated.csv\",\n",
    "     \"PhoneMag\": \"../Paddling_Data/Jan_24//Alex Optimal (1)/MagnetometerUncalibrated.csv\",\n",
    "     \"LeftWatch\": \"../Paddling_Data/Jan_24//Alex Optimal (1)/LeftWatch.csv\",\n",
    "     \"RightWatch\": \"../Paddling_Data/Jan_24//Alex Optimal (1)/RightWatch.csv\"\n",
    "    },\n",
    "    {\"PhoneAccel\": \"../Paddling_Data/Jan_24//Alex Optimal (2)/AccelerometerUncalibrated.csv\",\n",
    "     \"PhoneGyro\": \"../Paddling_Data/Jan_24//Alex Optimal (2)/GyroscopeUncalibrated.csv\",\n",
    "     \"PhoneMag\": \"../Paddling_Data/Jan_24//Alex Optimal (2)/MagnetometerUncalibrated.csv\",\n",
    "     \"LeftWatch\": \"../Paddling_Data/Jan_24//Alex Optimal (2)/LeftWatch.csv\",\n",
    "     \"RightWatch\": \"../Paddling_Data/Jan_24//Alex Optimal (2)/RightWatch.csv\"\n",
    "    },\n",
    "    {\"PhoneAccel\": \"../Paddling_Data/Jan_24//Tony Optimal (1)/AccelerometerUncalibrated.csv\",\n",
    "     \"PhoneGyro\": \"../Paddling_Data/Jan_24//Tony Optimal (1)/GyroscopeUncalibrated.csv\",\n",
    "     \"PhoneMag\": \"../Paddling_Data/Jan_24//Tony Optimal (1)/MagnetometerUncalibrated.csv\",\n",
    "     \"LeftWatch\": \"../Paddling_Data/Jan_24//Tony Optimal (1)/LeftWatch.csv\",\n",
    "     \"RightWatch\": \"../Paddling_Data/Jan_24//Tony Optimal (1)/RightWatch.csv\"\n",
    "    },\n",
    "    {\"PhoneAccel\": \"../Paddling_Data/Jan_24//Tony Optimal (2)/AccelerometerUncalibrated.csv\",\n",
    "     \"PhoneGyro\": \"../Paddling_Data/Jan_24//Tony Optimal (2)/GyroscopeUncalibrated.csv\",\n",
    "     \"PhoneMag\": \"../Paddling_Data/Jan_24//Tony Optimal (2)/MagnetometerUncalibrated.csv\",\n",
    "     \"LeftWatch\": \"../Paddling_Data/Jan_24//Tony Optimal (2)/LeftWatch.csv\",\n",
    "     \"RightWatch\": \"../Paddling_Data/Jan_24//Tony Optimal (2)/RightWatch.csv\"\n",
    "    },\n",
    "    {\"PhoneAccel\": \"../Paddling_Data/Jan_24//Anthony Inoptimal (1)/AccelerometerUncalibrated.csv\",\n",
    "     \"PhoneGyro\": \"../Paddling_Data/Jan_24//Anthony Inoptimal (1)/GyroscopeUncalibrated.csv\",\n",
    "     \"PhoneMag\": \"../Paddling_Data/Jan_24//Anthony Inoptimal (1)/MagnetometerUncalibrated.csv\",\n",
    "     \"LeftWatch\": \"../Paddling_Data/Jan_24//Anthony Inoptimal (1)/LeftWatch.csv\",\n",
    "     \"RightWatch\": \"../Paddling_Data/Jan_24//Anthony Inoptimal (1)/RightWatch.csv\"\n",
    "    },\n",
    "    {\"PhoneAccel\": \"../Paddling_Data/Jan_24//Shubham Optimal (1)/AccelerometerUncalibrated.csv\",\n",
    "     \"PhoneGyro\": \"../Paddling_Data/Jan_24//Shubham Optimal (1)/GyroscopeUncalibrated.csv\",\n",
    "     \"PhoneMag\": \"../Paddling_Data/Jan_24//Shubham Optimal (1)/MagnetometerUncalibrated.csv\",\n",
    "     \"LeftWatch\": \"../Paddling_Data/Jan_24//Shubham Optimal (1)/LeftWatch.csv\",\n",
    "     \"RightWatch\": \"../Paddling_Data/Jan_24//Shubham Optimal (1)/RightWatch.csv\"\n",
    "    },\n",
    "];"
   ]
  },
  {
   "cell_type": "code",
   "execution_count": 5,
   "id": "8097dd37",
   "metadata": {},
   "outputs": [],
   "source": [
    "def createFullDict(fileBaseDict):\n",
    "    \n",
    "    PhoneAccel = pd.read_csv(fileBaseDict[\"PhoneAccel\"])\n",
    "    PhoneGyro = pd.read_csv(fileBaseDict[\"PhoneGyro\"])\n",
    "    PhoneMag = pd.read_csv(fileBaseDict[\"PhoneMag\"])\n",
    "    LeftWatch = pd.read_csv(fileBaseDict[\"LeftWatch\"])\n",
    "    RightWatch = pd.read_csv(fileBaseDict[\"RightWatch\"])\n",
    "        \n",
    "    \n",
    "    Dict = {\n",
    "        \"PhoneTime\": PhoneAccel[\"time\"],\n",
    "        \"LeftWatchTime\": LeftWatch[\" TimeSince1970(ms)\"],\n",
    "        \"RightWatchTime\": RightWatch[\" TimeSince1970(ms)\"],\n",
    "\n",
    "        \"PhoneAccelX\": PhoneAccel[\"x\"],\n",
    "        \"PhoneAccelY\": PhoneAccel[\"y\"],\n",
    "        \"PhoneAccelZ\": PhoneAccel[\"z\"],\n",
    "\n",
    "        \"PhoneGyroX\": PhoneGyro[\"x\"],\n",
    "        \"PhoneGyroY\": PhoneGyro[\"y\"],\n",
    "        \"PhoneGyroZ\": PhoneGyro[\"z\"],\n",
    "\n",
    "        \"PhoneMagX\": PhoneMag[\"x\"],\n",
    "        \"PhoneMagY\": PhoneMag[\"y\"],\n",
    "        \"PhoneMagZ\": PhoneMag[\"z\"],\n",
    "\n",
    "        \"LeftWatchRoll\": LeftWatch[\" DMRoll\"],\n",
    "        \"LeftWatchPitch\": LeftWatch[\" DMPitch\"],\n",
    "        \"LeftWatchYaw\": LeftWatch[\" DMYaw\"],\n",
    "\n",
    "        \"LeftWatchRotX\": LeftWatch[\" DMRotX\"],\n",
    "        \"LeftWatchRotY\": LeftWatch[\" DMRotY\"],\n",
    "        \"LeftWatchRotZ\": LeftWatch[\" DMRotZ\"],\n",
    "\n",
    "        \"LeftWatchGravX\": LeftWatch[\" DMGrvX\"],\n",
    "        \"LeftWatchGravY\": LeftWatch[\" DMGrvY\"],\n",
    "        \"LeftWatchGravZ\": LeftWatch[\" DMGrvZ\"],\n",
    "        \n",
    "        \"LeftWatchDMUAccelX\": LeftWatch[\" DMUAccelX\"],\n",
    "        \"LeftWatchDMUAccelY\": LeftWatch[\" DMUAccelY\"],\n",
    "        \"LeftWatchDMUAccelZ\": LeftWatch[\" DMUAccelZ\"],\n",
    "        \n",
    "        \"LeftWatchQuatW\": LeftWatch[\" DMQuatW\"],\n",
    "        \"LeftWatchQuatX\": LeftWatch[\" DMQuatX\"],\n",
    "        \"LeftWatchQuatY\": LeftWatch[\" DMQuatY\"],\n",
    "        \"LeftWatchQuatZ\": LeftWatch[\" DMQuatZ\"],\n",
    "    \n",
    "        \"LeftWatchAccelX\": LeftWatch[\"AccelroX\"],\n",
    "        \"LeftWatchAccelY\": LeftWatch[\" AceelroY\"],\n",
    "        \"LeftWatchAccelZ\": LeftWatch[\" AceelroZ\"],\n",
    "        \n",
    "        \"RightWatchRoll\": RightWatch[\" DMRoll\"],\n",
    "        \"RightWatchPitch\": RightWatch[\" DMPitch\"],\n",
    "        \"RightWatchYaw\": RightWatch[\" DMYaw\"],\n",
    "\n",
    "        \"RightWatchRotX\": RightWatch[\" DMRotX\"],\n",
    "        \"RightWatchRotY\": RightWatch[\" DMRotY\"],\n",
    "        \"RightWatchRotZ\": RightWatch[\" DMRotZ\"],\n",
    "\n",
    "        \"RightWatchGravX\": RightWatch[\" DMGrvX\"],\n",
    "        \"RightWatchGravY\": RightWatch[\" DMGrvY\"],\n",
    "        \"RightWatchGravZ\": RightWatch[\" DMGrvZ\"],\n",
    "        \n",
    "        \"RightWatchDMUAccelX\": RightWatch[\" DMUAccelX\"],\n",
    "        \"RightWatchDMUAccelY\": RightWatch[\" DMUAccelY\"],\n",
    "        \"RightWatchDMUAccelZ\": RightWatch[\" DMUAccelZ\"],\n",
    "        \n",
    "        \"RightWatchQuatW\": RightWatch[\" DMQuatW\"],\n",
    "        \"RightWatchQuatX\": RightWatch[\" DMQuatX\"],\n",
    "        \"RightWatchQuatY\": RightWatch[\" DMQuatY\"],\n",
    "        \"RightWatchQuatZ\": RightWatch[\" DMQuatZ\"],\n",
    "    \n",
    "        \"RightWatchAccelX\": RightWatch[\"AccelroX\"],\n",
    "        \"RightWatchAccelY\": RightWatch[\" AceelroY\"],\n",
    "        \"RightWatchAccelZ\": RightWatch[\" AceelroZ\"]\n",
    "    }\n",
    "    \n",
    "    return Dict"
   ]
  },
  {
   "cell_type": "code",
   "execution_count": 6,
   "id": "6d89cb9e",
   "metadata": {},
   "outputs": [],
   "source": [
    "def clipArray(Dict, attribute, clipLen):\n",
    "    Dict[attribute] = Dict[attribute][clipLen:]"
   ]
  },
  {
   "cell_type": "code",
   "execution_count": 7,
   "id": "8c9e6598",
   "metadata": {},
   "outputs": [],
   "source": [
    "def alignTimings(currentDict):\n",
    "    currentPhoneTime = currentDict[\"PhoneTime\"][0]\n",
    "    currentLeftWatchTime = currentDict[\"LeftWatchTime\"][0]*1000000\n",
    "    currentRightWatchTime = currentDict[\"RightWatchTime\"][0]*1000000\n",
    "    \n",
    "    holdMetric = None\n",
    "    \n",
    "    if (currentPhoneTime >= currentLeftWatchTime and currentPhoneTime >= currentRightWatchTime):\n",
    "        holdMetric = \"currentPhoneTime\"\n",
    "    elif (currentLeftWatchTime >= currentPhoneTime and currentLeftWatchTime >= currentRightWatchTime):\n",
    "        holdMetric = \"currentLeftWatchTime\"\n",
    "    else:\n",
    "        holdMetric = \"currentRightWatchTime\"\n",
    "    \n",
    "    \n",
    "    pindex = 0;\n",
    "    wlindex = 0;\n",
    "    wrindex = 0;\n",
    "    while (True):\n",
    "        currentPhoneTime = currentDict[\"PhoneTime\"][pindex];\n",
    "        currentLeftWatchTime = currentDict[\"LeftWatchTime\"][wlindex]*1000000;\n",
    "        currentRightWatchTime = currentDict[\"RightWatchTime\"][wrindex]*1000000;\n",
    "        \n",
    "        \n",
    "#         print(currentPhoneTime,currentLeftWatchTime,currentRightWatchTime)\n",
    "\n",
    "        if (holdMetric == \"currentPhoneTime\"):\n",
    "            if (currentLeftWatchTime < currentPhoneTime and currentRightWatchTime < currentPhoneTime):\n",
    "                wlindex += 1;\n",
    "                wrindex += 1;\n",
    "            elif (currentLeftWatchTime < currentPhoneTime):\n",
    "                wlindex += 1;\n",
    "            elif (currentRightWatchTime < currentPhoneTime):\n",
    "                wrindex += 1;\n",
    "            else:\n",
    "                break\n",
    "    \n",
    "        elif (holdMetric == \"currentLeftWatchTime\"):\n",
    "            if (currentPhoneTime < currentLeftWatchTime and currentRightWatchTime < currentLeftWatchTime):\n",
    "                pindex += 1;\n",
    "                wrindex += 1;\n",
    "            elif (currentPhoneTime < currentLeftWatchTime):\n",
    "                pindex += 1;\n",
    "            elif (currentRightWatchTime < currentLeftWatchTime):\n",
    "                wrindex += 1;\n",
    "            else:\n",
    "                break\n",
    "\n",
    "        else:\n",
    "            if (currentPhoneTime < currentRightWatchTime and currentLeftWatchTime < currentRightWatchTime):\n",
    "                pindex += 1;\n",
    "                wlindex += 1;\n",
    "            elif (currentPhoneTime < currentRightWatchTime):\n",
    "                pindex += 1;\n",
    "            elif (currentLeftWatchTime < currentRightWatchTime):\n",
    "                wlindex += 1;\n",
    "            else:\n",
    "                break\n",
    "\n",
    "    print(\"delta is\", (currentDict[\"PhoneTime\"][pindex]-currentDict[\"LeftWatchTime\"][wlindex]*1000000)/(1000000000));\n",
    "    print(\"delta is\", (currentDict[\"PhoneTime\"][pindex]-currentDict[\"RightWatchTime\"][wrindex]*1000000)/(1000000000));\n",
    "\n",
    "\n",
    "    PhoneAttributes = [\"PhoneTime\", \"PhoneAccelX\", \"PhoneAccelY\", \"PhoneAccelZ\", \"PhoneGyroX\",\n",
    "                       \"PhoneGyroY\", \"PhoneGyroZ\", \"PhoneMagX\", \"PhoneMagY\", \"PhoneMagZ\"]\n",
    "                       \n",
    "    LeftWatchAttributes = [\"LeftWatchTime\", \"LeftWatchRoll\", \"LeftWatchPitch\", \"LeftWatchYaw\",\"LeftWatchRotX\", \n",
    "                           \"LeftWatchRotY\", \"LeftWatchRotZ\", \"LeftWatchGravX\", \"LeftWatchGravY\", \"LeftWatchGravZ\", \n",
    "                           \"LeftWatchDMUAccelX\", \"LeftWatchDMUAccelY\", \"LeftWatchDMUAccelZ\", \"LeftWatchQuatW\",\n",
    "                           \"LeftWatchQuatX\", \"LeftWatchQuatY\", \"LeftWatchQuatZ\", \"LeftWatchAccelX\",\n",
    "                           \"LeftWatchAccelY\", \"LeftWatchAccelZ\"]\n",
    "    RightWatchAttributes = [\"RightWatchTime\", \"RightWatchRoll\", \"RightWatchPitch\", \"RightWatchYaw\", \"RightWatchRotX\", \n",
    "                            \"RightWatchRotY\", \"RightWatchRotZ\", \"RightWatchGravX\", \"RightWatchGravY\",\n",
    "                            \"RightWatchGravZ\", \"RightWatchDMUAccelX\", \"RightWatchDMUAccelY\", \"RightWatchDMUAccelZ\",\n",
    "                            \"RightWatchQuatW\", \"RightWatchQuatX\", \"RightWatchQuatY\", \"RightWatchQuatZ\",\n",
    "                            \"RightWatchAccelX\", \"RightWatchAccelY\", \"RightWatchAccelZ\"]\n",
    "\n",
    "    for i in PhoneAttributes:\n",
    "        clipArray(currentDict, i, pindex)\n",
    "    \n",
    "    for i in LeftWatchAttributes:\n",
    "        clipArray(currentDict, i, wlindex)\n",
    "    \n",
    "    for i in RightWatchAttributes:\n",
    "        clipArray(currentDict, i, wrindex)\n",
    "        \n",
    "    return [pindex, wlindex, wrindex]"
   ]
  },
  {
   "cell_type": "code",
   "execution_count": 8,
   "id": "215c10e8",
   "metadata": {},
   "outputs": [],
   "source": [
    "def addReading(newDict, oldDict, pindex, wlindex, wrindex):\n",
    "    attributes = [\"PhoneTime\", \"PhoneAccelX\", \"PhoneAccelY\", \"PhoneAccelZ\", \"PhoneGyroX\",\n",
    "                   \"PhoneGyroY\", \"PhoneGyroZ\", \"PhoneMagX\", \"PhoneMagY\", \"PhoneMagZ\", \"LeftWatchTime\", \n",
    "                   \"LeftWatchRoll\", \"LeftWatchPitch\", \"LeftWatchYaw\",\"LeftWatchRotX\", \n",
    "                   \"LeftWatchRotY\", \"LeftWatchRotZ\", \"LeftWatchGravX\", \"LeftWatchGravY\", \"LeftWatchGravZ\", \n",
    "                   \"LeftWatchDMUAccelX\", \"LeftWatchDMUAccelY\", \"LeftWatchDMUAccelZ\", \"LeftWatchQuatW\",\n",
    "                   \"LeftWatchQuatX\", \"LeftWatchQuatY\", \"LeftWatchQuatZ\", \"LeftWatchAccelX\",\n",
    "                   \"LeftWatchAccelY\", \"LeftWatchAccelZ\", \"RightWatchTime\", \"RightWatchRoll\", \n",
    "                   \"RightWatchPitch\", \"RightWatchYaw\", \"RightWatchRotX\", \n",
    "                   \"RightWatchRotY\", \"RightWatchRotZ\", \"RightWatchGravX\", \"RightWatchGravY\",\n",
    "                   \"RightWatchGravZ\", \"RightWatchDMUAccelX\", \"RightWatchDMUAccelY\", \"RightWatchDMUAccelZ\",\n",
    "                   \"RightWatchQuatW\", \"RightWatchQuatX\", \"RightWatchQuatY\", \"RightWatchQuatZ\",\n",
    "                   \"RightWatchAccelX\", \"RightWatchAccelY\", \"RightWatchAccelZ\"]\n",
    "        \n",
    "    for i in attributes:\n",
    "        index = \"\"\n",
    "        if (\"Phone\" in i):\n",
    "            index = pindex\n",
    "        elif (\"LeftWatch\" in i):\n",
    "            index = wlindex\n",
    "        else:\n",
    "            index = wrindex\n",
    "            \n",
    "#         print(index, wrindex)\n",
    "        \n",
    "        \n",
    "        if (i in newDict):\n",
    "            newDict[i].append(oldDict[i][index])\n",
    "        else:\n",
    "#             print(\"attribute\",i)\n",
    "#             print(oldDict[i])\n",
    "            newDict[i] = [oldDict[i][index]]\n",
    "    "
   ]
  },
  {
   "cell_type": "code",
   "execution_count": 9,
   "id": "ee00824d",
   "metadata": {},
   "outputs": [],
   "source": [
    "def continuouslydownward(arr, startIndex, wantlength):\n",
    "    checked = startIndex\n",
    "    \n",
    "    anomalies = 0\n",
    "    while (checked < startIndex+wantlength):\n",
    "        \n",
    "        if (len(arr) <= startIndex+wantlength):\n",
    "#             print(\"left cuz of end\", checked-startIndex)\n",
    "            return False\n",
    "        if (arr[checked] < arr[checked+1]):\n",
    "#             print(\"left cuz of higher\", checked-startIndex)\n",
    "            anomalies += 1\n",
    "        \n",
    "        checked += 1\n",
    "    \n",
    "    return anomalies <= 3\n",
    "    \n",
    "    "
   ]
  },
  {
   "cell_type": "code",
   "execution_count": 10,
   "id": "c3adfb34",
   "metadata": {},
   "outputs": [],
   "source": [
    "def splitIntoStrokes(currentDict, pindex, wlindex, wrindex):\n",
    "\n",
    "    streaks = [];\n",
    "\n",
    "    strokearr = [];\n",
    "\n",
    "    currentstroke = {}\n",
    "\n",
    "    pstart = pindex\n",
    "    wlstart = wlindex\n",
    "    wrstart = wrindex\n",
    "\n",
    "    i = 0;\n",
    "    last = 0;\n",
    "    while (pstart < len(currentDict[\"PhoneAccelX\"]) and wlstart < len(currentDict[\"LeftWatchRoll\"])\n",
    "          and wrstart < len(currentDict[\"RightWatchRoll\"])):\n",
    "        subj = currentDict[\"LeftWatchQuatX\"][wlstart];\n",
    "        \n",
    "#         print(\"inside out\", wlstart, subj)\n",
    "\n",
    "\n",
    "        # cut it off as a stroke\n",
    "        if (continuouslydownward(currentDict[\"LeftWatchQuatX\"], wlstart, 40) and i-last > 150):\n",
    "            \n",
    "            \n",
    "#             print(\"inside\")\n",
    "\n",
    "\n",
    "            strokearr.append(currentstroke);\n",
    "\n",
    "            currentstroke = {}\n",
    "\n",
    "            streaks.append(i-last) #; // will usually be around the threshold\n",
    "\n",
    "            last = i;\n",
    "\n",
    "        # Limit will be taken care of by the stroke splitter\n",
    "        if (True or i-last < 190):\n",
    "            \n",
    "            addReading(currentstroke, currentDict, pstart, wlstart, wrstart)\n",
    "\n",
    "        i += 1;\n",
    "        pstart += 1\n",
    "        wlstart += 1\n",
    "        wrstart += 1\n",
    "\n",
    "    print(streaks);\n",
    "\n",
    "    # // noew find out the differences\n",
    "    differences = [];\n",
    "    i = 1;\n",
    "    while (i < len(streaks)):\n",
    "        differences.append(streaks[i]-streaks[i-1]);\n",
    "        i += 1\n",
    "\n",
    "\n",
    "    print(differences);\n",
    "\n",
    "\n",
    "    starts = [];\n",
    "    lns = [];\n",
    "\n",
    "    currentstart = 0;\n",
    "    currentlen = 0;\n",
    "    i = 0;\n",
    "    while (i < len(differences)):\n",
    "    #     print(\"current i\",i);\n",
    "        if (differences[i] < 70 and differences[i] > -70):\n",
    "    #         // within regulation, len goes up\n",
    "            currentlen += 1;\n",
    "        else:\n",
    "    #         // out of regulation, cut it off\n",
    "            lns.append(currentlen);\n",
    "            starts.append(currentstart);\n",
    "\n",
    "            currentlen = 0;\n",
    "            currentstart = i+1;\n",
    "\n",
    "        # check if thats the end\n",
    "        if (i == len(differences)-1):\n",
    "            lns.append(currentlen);\n",
    "            starts.append(currentstart);\n",
    "\n",
    "            currentlen = 0;\n",
    "            currentstart = i+1;\n",
    "\n",
    "\n",
    "        i += 1;\n",
    "\n",
    "\n",
    "    print(starts);\n",
    "    print(lns);\n",
    "\n",
    "    # if the length is above 2, use it\n",
    "\n",
    "\n",
    "\n",
    "    strokearray = [];\n",
    "    # // only take the ones that were approved by the automation\n",
    "\n",
    "    # // send any set of strokes larger than 2 for evaluation\n",
    "\n",
    "    i = 0;\n",
    "    while (i < len(starts)):\n",
    "        if (lns[i] > 2):\n",
    "    #         // actually do the thing\n",
    "\n",
    "            j = starts[i];\n",
    "            while (j < starts[i]+lns[i]):\n",
    "#                 print(len(strokearr[j][\"PhoneAccelX\"]))\n",
    "                if (len(strokearr[j][\"PhoneAccelX\"]) >= 190):\n",
    "                    strokearray.append(strokearr[j]);\n",
    "\n",
    "                j += 1;\n",
    "\n",
    "\n",
    "    #     // else skip over it\n",
    "        i += 1;\n",
    "        \n",
    "    return strokearray;\n"
   ]
  },
  {
   "cell_type": "code",
   "execution_count": 11,
   "id": "85d68321",
   "metadata": {},
   "outputs": [],
   "source": [
    "def splitIntoParts(currentDict):\n",
    "    \n",
    "    # currentDict is a dict with attributes of arrays\n",
    "\n",
    "    streaks = [];\n",
    "\n",
    "    strokearr = [];\n",
    "    \n",
    "    splitalready = False;\n",
    "    secondsplitalready = False;\n",
    "\n",
    "    currentstroke = {}\n",
    "\n",
    "    i = 0;\n",
    "    while (i < len(currentDict[\"PhoneAccelX\"]) and i < len(currentDict[\"LeftWatchRoll\"])\n",
    "          and i < len(currentDict[\"RightWatchRoll\"])):\n",
    "        \n",
    "#         print(\"in loop, at index\", i)\n",
    "        \n",
    "        subj = currentDict[\"LeftWatchQuatW\"][i];\n",
    "\n",
    "        # i want to see if its increasing consistently\n",
    "        if ((not splitalready) and \n",
    "            i < len(currentDict[\"LeftWatchQuatW\"])-17 and subj < currentDict[\"LeftWatchQuatW\"][i+1] \n",
    "            and currentDict[\"LeftWatchQuatW\"][i+1] < currentDict[\"LeftWatchQuatW\"][i+2] \n",
    "            and currentDict[\"LeftWatchQuatW\"][i+2] < currentDict[\"LeftWatchQuatW\"][i+3] \n",
    "            and currentDict[\"LeftWatchQuatW\"][i+3] < currentDict[\"LeftWatchQuatW\"][i+4] \n",
    "            and currentDict[\"LeftWatchQuatW\"][i+4] < currentDict[\"LeftWatchQuatW\"][i+5] \n",
    "            and currentDict[\"LeftWatchQuatW\"][i+5] < currentDict[\"LeftWatchQuatW\"][i+6] \n",
    "            and currentDict[\"LeftWatchQuatW\"][i+6] < currentDict[\"LeftWatchQuatW\"][i+7] \n",
    "            and currentDict[\"LeftWatchQuatW\"][i+7] < currentDict[\"LeftWatchQuatW\"][i+8] \n",
    "            and currentDict[\"LeftWatchQuatW\"][i+8] < currentDict[\"LeftWatchQuatW\"][i+9] \n",
    "            and currentDict[\"LeftWatchQuatW\"][i+9] < currentDict[\"LeftWatchQuatW\"][i+10] \n",
    "            and currentDict[\"LeftWatchQuatW\"][i+10] < currentDict[\"LeftWatchQuatW\"][i+11] \n",
    "            and currentDict[\"LeftWatchQuatW\"][i+11] < currentDict[\"LeftWatchQuatW\"][i+12] \n",
    "            and currentDict[\"LeftWatchQuatW\"][i+12] < currentDict[\"LeftWatchQuatW\"][i+13] \n",
    "            and currentDict[\"LeftWatchQuatW\"][i+13] < currentDict[\"LeftWatchQuatW\"][i+14] \n",
    "            and currentDict[\"LeftWatchQuatW\"][i+14] < currentDict[\"LeftWatchQuatW\"][i+15] \n",
    "            and currentDict[\"LeftWatchQuatW\"][i+15] < currentDict[\"LeftWatchQuatW\"][i+16] \n",
    "            and currentDict[\"LeftWatchQuatW\"][i+16] < currentDict[\"LeftWatchQuatW\"][i+17]):\n",
    "            \n",
    "#             print(\"first split out, at index\", i)\n",
    "\n",
    "            strokearr.append(currentstroke)\n",
    "            \n",
    "            splitalready = True\n",
    "            \n",
    "            currentstroke = {}\n",
    "            \n",
    "    \n",
    "         # now i want to see if its decreasing consistently\n",
    "        if ((splitalready) and (not secondsplitalready) and\n",
    "            i < len(currentDict[\"LeftWatchQuatW\"])-10 and subj > currentDict[\"LeftWatchQuatW\"][i+1] \n",
    "            and currentDict[\"LeftWatchQuatW\"][i+1] > currentDict[\"LeftWatchQuatW\"][i+2] \n",
    "            and currentDict[\"LeftWatchQuatW\"][i+2] > currentDict[\"LeftWatchQuatW\"][i+3] \n",
    "            and currentDict[\"LeftWatchQuatW\"][i+3] > currentDict[\"LeftWatchQuatW\"][i+4] \n",
    "            and currentDict[\"LeftWatchQuatW\"][i+4] > currentDict[\"LeftWatchQuatW\"][i+5] \n",
    "            and currentDict[\"LeftWatchQuatW\"][i+5] > currentDict[\"LeftWatchQuatW\"][i+6] \n",
    "            and currentDict[\"LeftWatchQuatW\"][i+6] > currentDict[\"LeftWatchQuatW\"][i+7] \n",
    "            and currentDict[\"LeftWatchQuatW\"][i+7] > currentDict[\"LeftWatchQuatW\"][i+8] \n",
    "            and currentDict[\"LeftWatchQuatW\"][i+8] > currentDict[\"LeftWatchQuatW\"][i+9]):\n",
    "            \n",
    "            \n",
    "#             print(\"second split out, at index\", i)\n",
    "\n",
    "\n",
    "            strokearr.append(currentstroke)\n",
    "            \n",
    "            secondsplitalready = True\n",
    "            \n",
    "            currentstroke = {}\n",
    "    \n",
    "    \n",
    "        addReading(currentstroke, currentDict, i, i, i)\n",
    "\n",
    "        i += 1;\n",
    "\n",
    "    strokearr.append(currentstroke);\n",
    "\n",
    "#     print(\"last split out, at index\", i)\n",
    "#\n",
    "\n",
    "    return strokearr;"
   ]
  },
  {
   "cell_type": "code",
   "execution_count": 12,
   "id": "5ee0e88e",
   "metadata": {},
   "outputs": [],
   "source": [
    "def getSummaryStats(arr):\n",
    "    #dont flatten, summarize into mean, skewness, stdev, min, max, range, 75th percentile, 25th percentile\n",
    "\n",
    "\n",
    "    retarr = [np.mean(arr), skew(arr), np.std(arr), np.min(arr), np.max(arr), np.max(arr)-np.min(arr), np.percentile(arr, 25), np.percentile(arr, 75)]\n",
    "    \n",
    "    return retarr\n",
    "\n",
    "def convertToSummary(dct):\n",
    "    attributes = [\"PhoneTime\", \"PhoneAccelX\", \"PhoneAccelY\", \"PhoneAccelZ\", \"PhoneGyroX\",\n",
    "                   \"PhoneGyroY\", \"PhoneGyroZ\", \"PhoneMagX\", \"PhoneMagY\", \"PhoneMagZ\", \"LeftWatchTime\", \n",
    "                   \"LeftWatchRoll\", \"LeftWatchPitch\", \"LeftWatchYaw\",\"LeftWatchRotX\", \n",
    "                   \"LeftWatchRotY\", \"LeftWatchRotZ\", \"LeftWatchGravX\", \"LeftWatchGravY\", \"LeftWatchGravZ\", \n",
    "                   \"LeftWatchDMUAccelX\", \"LeftWatchDMUAccelY\", \"LeftWatchDMUAccelZ\", \"LeftWatchQuatW\",\n",
    "                   \"LeftWatchQuatX\", \"LeftWatchQuatY\", \"LeftWatchQuatZ\", \"LeftWatchAccelX\",\n",
    "                   \"LeftWatchAccelY\", \"LeftWatchAccelZ\", \"RightWatchTime\", \"RightWatchRoll\", \n",
    "                   \"RightWatchPitch\", \"RightWatchYaw\", \"RightWatchRotX\", \n",
    "                   \"RightWatchRotY\", \"RightWatchRotZ\", \"RightWatchGravX\", \"RightWatchGravY\",\n",
    "                   \"RightWatchGravZ\", \"RightWatchDMUAccelX\", \"RightWatchDMUAccelY\", \"RightWatchDMUAccelZ\",\n",
    "                   \"RightWatchQuatW\", \"RightWatchQuatX\", \"RightWatchQuatY\", \"RightWatchQuatZ\",\n",
    "                   \"RightWatchAccelX\", \"RightWatchAccelY\", \"RightWatchAccelZ\"]\n",
    "    \n",
    "    \n",
    "    endarr = []\n",
    "    \n",
    "    for feature in attributes:\n",
    "        endarr.extend(getSummaryStats(dct[feature]))\n",
    "        \n",
    "    return endarr\n",
    "    "
   ]
  },
  {
   "cell_type": "code",
   "execution_count": 13,
   "id": "5b845a9f",
   "metadata": {},
   "outputs": [],
   "source": [
    "def getResults(predict_y, y_test):\n",
    "    true_pos = 0\n",
    "    true_neg = 0\n",
    "    false_pos = 0\n",
    "    false_neg = 0\n",
    "\n",
    "    i = 0\n",
    "    while (i < len(predict_y)):\n",
    "        pred = predict_y[i]\n",
    "        real = y_test[i]\n",
    "\n",
    "        if (pred == real and pred == 1):\n",
    "            true_pos += 1\n",
    "        elif (pred == real and pred == 0):\n",
    "            true_neg += 1\n",
    "        elif (pred != real and real == 0):\n",
    "            false_pos += 1\n",
    "        else:\n",
    "            false_neg += 1\n",
    "\n",
    "        i += 1\n",
    "\n",
    "\n",
    "    precision = (true_pos)/(true_pos+false_pos)\n",
    "    recall = (true_pos)/(true_pos+false_neg)\n",
    "    accuracy = (true_pos+true_neg)/(true_pos+true_neg+false_pos+false_neg)\n",
    "    fscore = 2*(precision*recall)/(precision+recall)\n",
    "    \n",
    "    print(\"Precision:\",precision,\"\\nRecall:\",recall,\"\\nAccuracy:\",accuracy,\"\\nFscore:\",fscore)"
   ]
  },
  {
   "cell_type": "code",
   "execution_count": 14,
   "id": "3882d290",
   "metadata": {},
   "outputs": [],
   "source": [
    "def filesToTrain(num, label):\n",
    "    global catchcompletearr\n",
    "    global catchresultarr\n",
    "\n",
    "    global pullcompletearr\n",
    "    global pullresultarr\n",
    "\n",
    "    global recoverycompletearr\n",
    "    global recoveryresultarr\n",
    "    \n",
    "    dct = createFullDict(optimalFileBase[num])\n",
    "    ret = alignTimings(dct)\n",
    "#     print(ret)\n",
    "    strokearray = splitIntoStrokes(dct, ret[0],ret[1],ret[2])\n",
    "    \n",
    "    i = 0\n",
    "    while (i < len(strokearray)):\n",
    "        starr = splitIntoParts(strokearray[i]);\n",
    "        \n",
    "        if (len(starr) != 3 or starr[0] == {} or starr[1] == {} or starr[2] == {}):\n",
    "            # splitting didnt work, discard\n",
    "            i += 1\n",
    "            continue\n",
    "        else:\n",
    "            catchcompletearr.append(convertToSummary(starr[0]))\n",
    "            catchresultarr.append(label)\n",
    "            \n",
    "            pullcompletearr.append(convertToSummary(starr[1]))\n",
    "            pullresultarr.append(label)\n",
    "            \n",
    "            recoverycompletearr.append(convertToSummary(starr[2]))\n",
    "            recoveryresultarr.append(label)\n",
    "\n",
    "        i += 1"
   ]
  },
  {
   "cell_type": "markdown",
   "id": "bc3ace77",
   "metadata": {},
   "source": [
    "Training below"
   ]
  },
  {
   "cell_type": "code",
   "execution_count": 15,
   "id": "6a8ddce9",
   "metadata": {},
   "outputs": [],
   "source": [
    "catchcompletearr = []\n",
    "catchresultarr = []\n",
    "\n",
    "pullcompletearr = []\n",
    "pullresultarr = []\n",
    "\n",
    "recoverycompletearr = []\n",
    "recoveryresultarr = []"
   ]
  },
  {
   "cell_type": "code",
   "execution_count": 16,
   "id": "22af48b2",
   "metadata": {},
   "outputs": [
    {
     "name": "stdout",
     "output_type": "stream",
     "text": [
      "delta is 0.004619\n",
      "delta is 0.000619\n",
      "[378, 151, 247, 151, 151, 178, 172, 190, 188, 190, 195, 189, 212, 187, 193, 227, 169, 194, 210, 198, 213, 203, 206, 212, 204, 213, 208, 225, 208, 222, 212, 230, 230, 220, 216, 217, 225, 231, 216, 209, 207, 216, 214, 151, 664]\n",
      "[-227, 96, -96, 0, 27, -6, 18, -2, 2, 5, -6, 23, -25, 6, 34, -58, 25, 16, -12, 15, -10, 3, 6, -8, 9, -5, 17, -17, 14, -10, 18, 0, -10, -4, 1, 8, 6, -15, -7, -2, 9, -2, -63, 513]\n",
      "[0, 1, 2, 3, 44]\n",
      "[0, 0, 0, 40, 0]\n"
     ]
    }
   ],
   "source": [
    "filesToTrain(0, 0)"
   ]
  },
  {
   "cell_type": "code",
   "execution_count": 17,
   "id": "ddfff8d8",
   "metadata": {},
   "outputs": [
    {
     "name": "stdout",
     "output_type": "stream",
     "text": [
      "delta is 0.0030754\n",
      "delta is 0.0020754\n",
      "[384, 291, 367, 254, 151, 151, 203, 280, 200, 191, 244, 215, 457, 160, 267, 154, 271, 196, 207, 232, 243, 222, 843, 228, 194, 273, 151, 185, 213, 390, 175, 216, 195, 262, 165, 151, 206, 167, 172, 234, 204, 181, 234, 198, 318, 153]\n",
      "[-93, 76, -113, -103, 0, 52, 77, -80, -9, 53, -29, 242, -297, 107, -113, 117, -75, 11, 25, 11, -21, 621, -615, -34, 79, -122, 34, 28, 177, -215, 41, -21, 67, -97, -14, 55, -39, 5, 62, -30, -23, 53, -36, 120, -165]\n",
      "[0, 1, 2, 3, 4, 7, 8, 12, 13, 14, 15, 16, 17, 22, 23, 25, 26, 29, 30, 34, 44, 45]\n",
      "[0, 0, 0, 0, 2, 0, 3, 0, 0, 0, 0, 0, 4, 0, 1, 0, 2, 0, 3, 9, 0, 0]\n"
     ]
    }
   ],
   "source": [
    "filesToTrain(1, 0)"
   ]
  },
  {
   "cell_type": "code",
   "execution_count": 18,
   "id": "b78a48bf",
   "metadata": {},
   "outputs": [
    {
     "name": "stdout",
     "output_type": "stream",
     "text": [
      "delta is -0.0027882\n",
      "delta is -0.0057882\n",
      "[151, 154, 180, 151, 261, 456, 176, 453, 285, 186, 198, 244, 195, 160, 229, 235, 359, 228, 185, 151, 151, 157, 172, 250, 459, 300, 259, 213, 194, 151, 321, 151, 276, 187, 349, 275, 328, 243, 218, 249, 155, 304, 179, 237, 162, 176, 280, 186, 239, 151, 295, 505]\n",
      "[3, 26, -29, 110, 195, -280, 277, -168, -99, 12, 46, -49, -35, 69, 6, 124, -131, -43, -34, 0, 6, 15, 78, 209, -159, -41, -46, -19, -43, 170, -170, 125, -89, 162, -74, 53, -85, -25, 31, -94, 149, -125, 58, -75, 14, 104, -94, 53, -88, 144, 210]\n",
      "[0, 4, 5, 6, 7, 8, 9, 16, 17, 23, 24, 25, 30, 31, 32, 33, 34, 35, 37, 40, 41, 42, 44, 46, 47, 49, 50, 51]\n",
      "[3, 0, 0, 0, 0, 0, 6, 0, 5, 0, 0, 4, 0, 0, 0, 0, 0, 1, 2, 0, 0, 1, 1, 0, 1, 0, 0, 0]\n"
     ]
    }
   ],
   "source": [
    "filesToTrain(2, 0)"
   ]
  },
  {
   "cell_type": "code",
   "execution_count": 19,
   "id": "438e27df",
   "metadata": {},
   "outputs": [],
   "source": [
    "# filesToTrain(3, 0)\n",
    "# Failed"
   ]
  },
  {
   "cell_type": "code",
   "execution_count": 20,
   "id": "604e77cd",
   "metadata": {},
   "outputs": [
    {
     "name": "stdout",
     "output_type": "stream",
     "text": [
      "delta is 0.0004387\n",
      "delta is -0.0045613\n",
      "[176, 558, 417, 316, 151, 151, 151, 162, 211, 168, 184, 151, 162, 169, 174, 178, 155, 180, 233, 151, 192, 197, 188, 180, 198, 177, 190, 169, 341, 199, 202, 172, 162, 307, 219, 169, 186, 329, 517, 151, 207, 443, 932, 162, 667, 182, 171, 339, 187, 234, 616, 515, 221, 151, 296, 298, 197, 508, 311, 229, 201, 168, 170, 180, 158, 179, 164, 170, 166, 164, 192, 157, 171, 188, 234, 214, 204, 181, 251, 156, 229, 197, 220, 219, 228, 306, 151, 151]\n",
      "[382, -141, -101, -165, 0, 0, 11, 49, -43, 16, -33, 11, 7, 5, 4, -23, 25, 53, -82, 41, 5, -9, -8, 18, -21, 13, -21, 172, -142, 3, -30, -10, 145, -88, -50, 17, 143, 188, -366, 56, 236, 489, -770, 505, -485, -11, 168, -152, 47, 382, -101, -294, -70, 145, 2, -101, 311, -197, -82, -28, -33, 2, 10, -22, 21, -15, 6, -4, -2, 28, -35, 14, 17, 46, -20, -10, -23, 70, -95, 73, -32, 23, -1, 9, 78, -155, 0]\n",
      "[0, 1, 2, 3, 4, 19, 28, 29, 33, 34, 37, 38, 39, 41, 42, 43, 44, 45, 47, 48, 50, 51, 52, 53, 54, 56, 57, 58, 59, 78, 79, 80, 85, 86]\n",
      "[0, 0, 0, 0, 14, 8, 0, 3, 0, 2, 0, 0, 1, 0, 0, 0, 0, 1, 0, 1, 0, 0, 0, 0, 1, 0, 0, 0, 18, 0, 0, 4, 0, 1]\n"
     ]
    }
   ],
   "source": [
    "filesToTrain(4, 1)"
   ]
  },
  {
   "cell_type": "code",
   "execution_count": 21,
   "id": "72e8a4a4",
   "metadata": {},
   "outputs": [
    {
     "name": "stdout",
     "output_type": "stream",
     "text": [
      "delta is -0.0075467\n",
      "delta is -0.0085467\n",
      "[151, 318, 479, 176, 176, 178, 192, 187, 187, 188, 211, 236, 259, 151, 178, 193, 190, 192, 195, 186, 205, 202, 198, 194, 202, 198, 211, 208, 215, 209, 196, 220, 220, 223, 220, 231, 151, 188, 580]\n",
      "[167, 161, -303, 0, 2, 14, -5, 0, 1, 23, 25, 23, -108, 27, 15, -3, 2, 3, -9, 19, -3, -4, -4, 8, -4, 13, -3, 7, -6, -13, 24, 0, 3, -3, 11, -80, 37, 392]\n",
      "[0, 1, 2, 3, 13, 36, 38]\n",
      "[0, 0, 0, 9, 22, 1, 0]\n"
     ]
    }
   ],
   "source": [
    "filesToTrain(5, 1)"
   ]
  },
  {
   "cell_type": "code",
   "execution_count": null,
   "id": "81b3cad3",
   "metadata": {},
   "outputs": [],
   "source": []
  },
  {
   "cell_type": "code",
   "execution_count": 22,
   "id": "3570cb97",
   "metadata": {},
   "outputs": [],
   "source": [
    "X = np.array(catchcompletearr)\n",
    "y = np.array(catchresultarr)"
   ]
  },
  {
   "cell_type": "code",
   "execution_count": 23,
   "id": "5c9d26aa",
   "metadata": {},
   "outputs": [
    {
     "data": {
      "text/plain": [
       "array([[ 1.73774944e+18,  3.60507967e-06,  9.29481312e+07, ...,\n",
       "         7.34313965e-01, -6.10542297e-01, -2.20668793e-01],\n",
       "       [ 1.73774944e+18,  4.01499878e-06,  1.13298473e+08, ...,\n",
       "         1.04241943e+00, -6.90299988e-01, -2.81784058e-01],\n",
       "       [ 1.73774944e+18,  6.51203180e-06,  9.87631425e+07, ...,\n",
       "         9.00222778e-01, -5.94234467e-01, -1.36581421e-01],\n",
       "       ...,\n",
       "       [ 1.73774977e+18, -3.24646505e-06,  2.35386941e+08, ...,\n",
       "         9.68460083e-01, -6.55563354e-01, -1.27639771e-01],\n",
       "       [ 1.73774977e+18,  1.01621607e-06,  2.09228192e+08, ...,\n",
       "         7.90176392e-01, -4.08485413e-01, -1.56967163e-01],\n",
       "       [ 1.73774978e+18,  8.04025401e-06,  1.48189040e+08, ...,\n",
       "         8.17703247e-01, -5.36857605e-01, -1.44218445e-01]],\n",
       "      shape=(66, 400))"
      ]
     },
     "execution_count": 23,
     "metadata": {},
     "output_type": "execute_result"
    }
   ],
   "source": [
    "X"
   ]
  },
  {
   "cell_type": "code",
   "execution_count": 24,
   "id": "ae284ec4",
   "metadata": {},
   "outputs": [
    {
     "data": {
      "text/plain": [
       "array([0, 0, 0, 0, 0, 0, 0, 0, 0, 0, 0, 0, 0, 0, 0, 0, 0, 0, 0, 0, 0, 0,\n",
       "       0, 0, 0, 0, 0, 0, 0, 0, 0, 0, 0, 0, 0, 0, 0, 0, 0, 0, 1, 1, 1, 1,\n",
       "       1, 1, 1, 1, 1, 1, 1, 1, 1, 1, 1, 1, 1, 1, 1, 1, 1, 1, 1, 1, 1, 1])"
      ]
     },
     "execution_count": 24,
     "metadata": {},
     "output_type": "execute_result"
    }
   ],
   "source": [
    "y"
   ]
  },
  {
   "cell_type": "code",
   "execution_count": 25,
   "id": "5c7c2aad",
   "metadata": {},
   "outputs": [
    {
     "data": {
      "text/plain": [
       "66"
      ]
     },
     "execution_count": 25,
     "metadata": {},
     "output_type": "execute_result"
    }
   ],
   "source": [
    "len(X)"
   ]
  },
  {
   "cell_type": "code",
   "execution_count": 26,
   "id": "e94abf64",
   "metadata": {},
   "outputs": [
    {
     "data": {
      "text/plain": [
       "66"
      ]
     },
     "execution_count": 26,
     "metadata": {},
     "output_type": "execute_result"
    }
   ],
   "source": [
    "len(y)"
   ]
  },
  {
   "cell_type": "code",
   "execution_count": 27,
   "id": "88d9b790",
   "metadata": {},
   "outputs": [],
   "source": [
    "import random\n",
    "from sklearn.model_selection import train_test_split\n",
    "\n",
    "import numpy as np\n",
    "\n",
    "from sklearn.pipeline import make_pipeline\n",
    "\n",
    "from sklearn.preprocessing import StandardScaler\n",
    "\n",
    "from sklearn.svm import SVC\n",
    "\n",
    "from sklearn.linear_model import LogisticRegression\n",
    "\n",
    "from sklearn.ensemble import RandomForestClassifier\n",
    "\n",
    "from sklearn.model_selection import cross_val_score\n",
    "\n",
    "import pickle"
   ]
  },
  {
   "cell_type": "markdown",
   "id": "7e419ec0",
   "metadata": {},
   "source": [
    "# Catch"
   ]
  },
  {
   "cell_type": "code",
   "execution_count": 28,
   "id": "59b2360f",
   "metadata": {},
   "outputs": [],
   "source": [
    "X = np.array(catchcompletearr)\n",
    "y = np.array(catchresultarr)"
   ]
  },
  {
   "cell_type": "code",
   "execution_count": 29,
   "id": "45692537",
   "metadata": {},
   "outputs": [
    {
     "data": {
      "text/plain": [
       "array([1, 0, 0, 0, 0, 0, 1, 1, 1, 0, 1, 0, 1, 0, 0, 1, 0, 0, 0, 0, 0, 1])"
      ]
     },
     "execution_count": 29,
     "metadata": {},
     "output_type": "execute_result"
    }
   ],
   "source": [
    "X_train, X_test, y_train, y_test = train_test_split(X, y, test_size=0.33, random_state=random.randint(0, 50))\n",
    "\n",
    "clf1 = make_pipeline(StandardScaler(), SVC(gamma='auto'))\n",
    "\n",
    "clf1.fit(X_train, y_train)\n",
    "\n",
    "predict_y = clf1.predict(X_test)\n",
    "predict_y"
   ]
  },
  {
   "cell_type": "code",
   "execution_count": 30,
   "id": "cad35811",
   "metadata": {},
   "outputs": [
    {
     "data": {
      "text/plain": [
       "array([1, 0, 0, 0, 0, 0, 1, 1, 1, 0, 1, 0, 1, 0, 0, 1, 0, 0, 0, 0, 0, 1])"
      ]
     },
     "execution_count": 30,
     "metadata": {},
     "output_type": "execute_result"
    }
   ],
   "source": [
    "y_test"
   ]
  },
  {
   "cell_type": "code",
   "execution_count": 31,
   "id": "b2510c03",
   "metadata": {
    "scrolled": true
   },
   "outputs": [
    {
     "name": "stdout",
     "output_type": "stream",
     "text": [
      "Precision: 1.0 \n",
      "Recall: 1.0 \n",
      "Accuracy: 1.0 \n",
      "Fscore: 1.0\n"
     ]
    }
   ],
   "source": [
    "getResults(predict_y, y_test)"
   ]
  },
  {
   "cell_type": "markdown",
   "id": "4c7d5b26",
   "metadata": {},
   "source": [
    "# Pull"
   ]
  },
  {
   "cell_type": "code",
   "execution_count": 32,
   "id": "938b00f4",
   "metadata": {},
   "outputs": [],
   "source": [
    "X = np.array(pullcompletearr)\n",
    "y = np.array(pullresultarr)"
   ]
  },
  {
   "cell_type": "code",
   "execution_count": 33,
   "id": "34347b36",
   "metadata": {},
   "outputs": [
    {
     "data": {
      "text/plain": [
       "array([0, 1, 0, 1, 1, 0, 1, 0, 1, 0, 1, 1, 0, 1, 0, 0, 0, 0, 0, 0, 1, 0])"
      ]
     },
     "execution_count": 33,
     "metadata": {},
     "output_type": "execute_result"
    }
   ],
   "source": [
    "X_train, X_test, y_train, y_test = train_test_split(X, y, test_size=0.33, random_state=random.randint(0, 50))\n",
    "\n",
    "clf1 = make_pipeline(StandardScaler(), SVC(gamma='auto'))\n",
    "\n",
    "clf1.fit(X_train, y_train)\n",
    "\n",
    "predict_y = clf1.predict(X_test)\n",
    "predict_y"
   ]
  },
  {
   "cell_type": "code",
   "execution_count": 34,
   "id": "285dfe6b",
   "metadata": {},
   "outputs": [
    {
     "name": "stdout",
     "output_type": "stream",
     "text": [
      "Precision: 1.0 \n",
      "Recall: 0.9 \n",
      "Accuracy: 0.9545454545454546 \n",
      "Fscore: 0.9473684210526316\n"
     ]
    }
   ],
   "source": [
    "getResults(predict_y, y_test)"
   ]
  },
  {
   "cell_type": "code",
   "execution_count": null,
   "id": "be18d446",
   "metadata": {},
   "outputs": [],
   "source": []
  },
  {
   "cell_type": "code",
   "execution_count": null,
   "id": "d321dbc4",
   "metadata": {},
   "outputs": [],
   "source": []
  },
  {
   "cell_type": "code",
   "execution_count": 35,
   "id": "43c22b91",
   "metadata": {},
   "outputs": [],
   "source": [
    "X = np.array(recoverycompletearr)\n",
    "y = np.array(recoveryresultarr)"
   ]
  },
  {
   "cell_type": "code",
   "execution_count": 44,
   "id": "bf209f86",
   "metadata": {},
   "outputs": [
    {
     "data": {
      "text/plain": [
       "array([0, 0, 1, 0, 0, 0, 0, 1, 1, 0, 1, 0, 0, 0, 0, 1, 0, 0, 0, 0, 1, 1])"
      ]
     },
     "execution_count": 44,
     "metadata": {},
     "output_type": "execute_result"
    }
   ],
   "source": [
    "X_train, X_test, y_train, y_test = train_test_split(X, y, test_size=0.33, random_state=random.randint(0, 50))\n",
    "\n",
    "clf1 = make_pipeline(StandardScaler(), SVC(gamma='auto'))\n",
    "\n",
    "clf1.fit(X_train, y_train)\n",
    "\n",
    "predict_y = clf1.predict(X_test)\n",
    "predict_y"
   ]
  },
  {
   "cell_type": "markdown",
   "id": "bec93b74",
   "metadata": {},
   "source": [
    "# Recovery"
   ]
  },
  {
   "cell_type": "code",
   "execution_count": 43,
   "id": "cb8d455a",
   "metadata": {},
   "outputs": [
    {
     "name": "stdout",
     "output_type": "stream",
     "text": [
      "Precision: 1.0 \n",
      "Recall: 1.0 \n",
      "Accuracy: 1.0 \n",
      "Fscore: 1.0\n"
     ]
    }
   ],
   "source": [
    "getResults(predict_y, y_test)\n"
   ]
  },
  {
   "cell_type": "code",
   "execution_count": null,
   "id": "a160f8fc",
   "metadata": {},
   "outputs": [],
   "source": []
  }
 ],
 "metadata": {
  "kernelspec": {
   "display_name": "CanoeModel",
   "language": "python",
   "name": "python3"
  },
  "language_info": {
   "codemirror_mode": {
    "name": "ipython",
    "version": 3
   },
   "file_extension": ".py",
   "mimetype": "text/x-python",
   "name": "python",
   "nbconvert_exporter": "python",
   "pygments_lexer": "ipython3",
   "version": "3.12.8"
  }
 },
 "nbformat": 4,
 "nbformat_minor": 5
}
